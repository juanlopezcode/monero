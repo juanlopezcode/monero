{
  "nbformat": 4,
  "nbformat_minor": 0,
  "metadata": {
    "colab": {
      "name": "Moneropoli.ipynb",
      "provenance": [],
      "collapsed_sections": []
    },
    "kernelspec": {
      "name": "python3",
      "display_name": "Python 3"
    }
  },
  "cells": [
    {
      "cell_type": "code",
      "metadata": {
        "id": "ptAD0kBtUQdC"
      },
      "source": [
        "! pip install requests &> /dev/null"
      ],
      "execution_count": 509,
      "outputs": []
    },
    {
      "cell_type": "code",
      "metadata": {
        "id": "DCs0BPtFUotR"
      },
      "source": [
        "!pip install plotly &> /dev/null"
      ],
      "execution_count": 510,
      "outputs": []
    },
    {
      "cell_type": "code",
      "metadata": {
        "id": "PD3xC7pcmIhq"
      },
      "source": [
        "!pip install -U scikit-learn &> /dev/null"
      ],
      "execution_count": 511,
      "outputs": []
    },
    {
      "cell_type": "code",
      "metadata": {
        "id": "MT0HY7htXiI9"
      },
      "source": [
        "import requests\n",
        "import json\n",
        "import pandas as pd\n",
        "import matplotlib.pyplot as plt\n",
        "import plotly.graph_objects as go\n",
        "\n",
        "from datetime import datetime\n",
        "import datetime as dt\n",
        "import numpy as np\n",
        "time_conv = np.vectorize(dt.datetime.fromtimestamp)\n",
        "\n",
        "from sklearn.model_selection import train_test_split\n",
        "\n",
        "from scipy.stats import norm\n",
        "plt.style.use([\"bmh\"])\n",
        "\n",
        "from sklearn.tree import DecisionTreeRegressor\n",
        "from sklearn.linear_model import LinearRegression\n",
        "from sklearn.preprocessing import PolynomialFeatures"
      ],
      "execution_count": 512,
      "outputs": []
    },
    {
      "cell_type": "code",
      "metadata": {
        "id": "ckVxaaGIXmkE"
      },
      "source": [
        "xmr = requests.get(\"https://api.kraken.com/0/public/OHLC?pair=xmrEUR&interval=1440\")\n",
        "xmr.encoding = \"utf-8\"\n",
        "xmrjson = xmr.json()\n",
        "b = xmrjson[\"result\"][\"XXMRZEUR\"]\n",
        "\n",
        "time = []\n",
        "for e in b:\n",
        "  time.append(e[0])\n",
        "\n",
        "time = time_conv(time)\n",
        "time = pd.DataFrame(time)\n",
        "\n",
        "open = []\n",
        "for e in b:\n",
        "  open.append(e[1])\n",
        "\n",
        "open = pd.DataFrame(open)\n",
        "\n",
        "high = []\n",
        "for e in b:\n",
        "  high.append(e[2])\n",
        "\n",
        "high = pd.DataFrame(high)\n",
        "\n",
        "low = []\n",
        "for e in b:\n",
        "  low.append(e[3])\n",
        "\n",
        "low = pd.DataFrame(low)\n",
        "\n",
        "close = []\n",
        "for e in b:\n",
        "  close.append(e[4])\n",
        "\n",
        "close = pd.DataFrame(close)\n",
        "\n",
        "vwap = []\n",
        "for e in b:\n",
        "  vwap.append(e[5])\n",
        "\n",
        "vwap = pd.DataFrame(vwap)\n",
        "\n",
        "vol = []\n",
        "for e in b:\n",
        "  vol.append(e[6])\n",
        "\n",
        "vol = pd.DataFrame(vol)"
      ],
      "execution_count": 513,
      "outputs": []
    },
    {
      "cell_type": "code",
      "metadata": {
        "id": "gHuIStUYYJGx"
      },
      "source": [
        "dataframe = pd.concat([time,open,high,low,close,vwap,vol], axis=1)\n",
        "\n",
        "cols = [\"time\",\"open\",\"high\",\"low\",\"close\",\"volweightprice\",\"volume\"]\n",
        "dataframe.columns = cols\n",
        "\n",
        "dataframe.open = dataframe.open.astype(float)\n",
        "dataframe.high = dataframe.high.astype(float)\n",
        "dataframe.low = dataframe.low.astype(float)\n",
        "dataframe.close = dataframe.close.astype(float)\n",
        "dataframe.volweightprice = dataframe.volweightprice.astype(float)\n",
        "dataframe.volume = dataframe.volume.astype(float)"
      ],
      "execution_count": 514,
      "outputs": []
    },
    {
      "cell_type": "code",
      "metadata": {
        "id": "p1VKdbG4UEvN"
      },
      "source": [
        "dataframe[\"time\"] = pd.to_datetime(dataframe.time)\n",
        "dataframe.index = (dataframe[\"time\"])"
      ],
      "execution_count": 515,
      "outputs": []
    },
    {
      "cell_type": "code",
      "metadata": {
        "id": "lwmJuISeIGQ0"
      },
      "source": [
        "dataframe.index = ((dataframe.index - pd.to_datetime(\"1995-01-01\")).days)"
      ],
      "execution_count": 516,
      "outputs": []
    },
    {
      "cell_type": "code",
      "metadata": {
        "id": "fYExRoBoIIA0"
      },
      "source": [
        "x = np.asarray(dataframe.index.values)\n",
        "\n",
        "yclose  = np.asarray(dataframe[\"close\"])\n",
        "yopen  = np.asarray(dataframe[\"open\"])\n",
        "yhigh  = np.asarray(dataframe[\"high\"])\n",
        "ylow  = np.asarray(dataframe[\"low\"])"
      ],
      "execution_count": 517,
      "outputs": []
    },
    {
      "cell_type": "code",
      "metadata": {
        "id": "lVSk6zFHIJm_"
      },
      "source": [
        "lrc = LinearRegression()\n",
        "lro = LinearRegression()\n",
        "lrh = LinearRegression()\n",
        "lrl = LinearRegression()\n",
        "\n",
        "poly = PolynomialFeatures(3)"
      ],
      "execution_count": 518,
      "outputs": []
    },
    {
      "cell_type": "code",
      "metadata": {
        "id": "l09jkdMFILkP"
      },
      "source": [
        "x_transform_forclose = poly.fit_transform(x.reshape(-1,1))\n",
        "x_transform_foropen = poly.fit_transform(x.reshape(-1,1))\n",
        "x_transform_forhigh = poly.fit_transform(x.reshape(-1,1))\n",
        "x_transform_forlow = poly.fit_transform(x.reshape(-1,1))"
      ],
      "execution_count": 519,
      "outputs": []
    },
    {
      "cell_type": "code",
      "metadata": {
        "colab": {
          "base_uri": "https://localhost:8080/"
        },
        "id": "Y_xWfryaINjQ",
        "outputId": "fcaa6af7-5fe4-461f-a457-dad14728e1df"
      },
      "source": [
        "lrc.fit(x_transform_forclose, yclose.reshape(-1,1))\n",
        "lro.fit(x_transform_foropen, yopen.reshape(-1,1))\n",
        "lrh.fit(x_transform_forhigh, yhigh.reshape(-1,1))\n",
        "lrl.fit(x_transform_forlow, ylow.reshape(-1,1)) \n",
        "print(\"Polinomial Regression\")"
      ],
      "execution_count": 520,
      "outputs": [
        {
          "output_type": "stream",
          "text": [
            "Polinomial Regression\n"
          ],
          "name": "stdout"
        }
      ]
    },
    {
      "cell_type": "code",
      "metadata": {
        "id": "61CrZuFeIPVK"
      },
      "source": [
        "y_close_learned  =  lrc.predict(x_transform_forclose)\n",
        "y_open_learned  =  lro.predict(x_transform_foropen)\n",
        "y_high_learned  =  lrh.predict(x_transform_forhigh)\n",
        "y_low_learned  =  lrl.predict(x_transform_forlow)"
      ],
      "execution_count": 521,
      "outputs": []
    },
    {
      "cell_type": "code",
      "metadata": {
        "id": "QGz4moHFIQ_L"
      },
      "source": [
        "xdaysfutures = np.asarray(pd.RangeIndex(start=x[-1]+1, stop=x[-1] + 15))"
      ],
      "execution_count": 522,
      "outputs": []
    },
    {
      "cell_type": "code",
      "metadata": {
        "id": "Lh9X_KGVISjz"
      },
      "source": [
        "x_extended_transform = poly.fit_transform(xdaysfutures.reshape(-1,1))"
      ],
      "execution_count": 523,
      "outputs": []
    },
    {
      "cell_type": "code",
      "metadata": {
        "id": "K1U7sNpsIUKf"
      },
      "source": [
        "y_close_predict = lrc.predict(x_extended_transform)\n",
        "y_open_predict = lro.predict(x_extended_transform)\n",
        "y_high_predict = lrh.predict(x_extended_transform)\n",
        "y_low_predict = lrl.predict(x_extended_transform)"
      ],
      "execution_count": 524,
      "outputs": []
    },
    {
      "cell_type": "code",
      "metadata": {
        "id": "bXvrLCBGIVkH"
      },
      "source": [
        "x = pd.to_datetime(dataframe.index, origin=\"1995-01-01\", unit=\"D\")\n",
        "\n",
        "xdaysfutures = pd.to_datetime(xdaysfutures, origin=\"1995-01-01\", unit=\"D\")"
      ],
      "execution_count": 525,
      "outputs": []
    },
    {
      "cell_type": "code",
      "metadata": {
        "id": "fVoq_FNWIXI6"
      },
      "source": [
        "y_open_predict = y_open_predict.flatten()\n",
        "y_high_predict = y_high_predict.flatten()\n",
        "y_low_predict = y_low_predict.flatten()\n",
        "y_close_predict = y_close_predict.flatten()"
      ],
      "execution_count": 526,
      "outputs": []
    },
    {
      "cell_type": "code",
      "metadata": {
        "id": "d42u0tIkIYsT"
      },
      "source": [
        "dataset = pd.DataFrame({'time': xdaysfutures, 'open':y_open_predict, \"high\":y_high_predict,  \"low\":y_low_predict, \"close\":y_close_predict})"
      ],
      "execution_count": 527,
      "outputs": []
    },
    {
      "cell_type": "code",
      "metadata": {
        "id": "CeU01_maIauD"
      },
      "source": [
        "del dataframe[\"volweightprice\"]\n",
        "del dataframe[\"volume\"]"
      ],
      "execution_count": 528,
      "outputs": []
    },
    {
      "cell_type": "code",
      "metadata": {
        "id": "zSr7VC6LIcIq"
      },
      "source": [
        "frames = [dataframe, dataset]\n",
        "\n",
        "result = pd.concat((dataframe,dataset), ignore_index=True)"
      ],
      "execution_count": 529,
      "outputs": []
    },
    {
      "cell_type": "code",
      "metadata": {
        "colab": {
          "base_uri": "https://localhost:8080/",
          "height": 37
        },
        "id": "MVf1OFdQIdxu",
        "outputId": "8e9aa3bb-1e89-447a-c405-d98a08468e89"
      },
      "source": [
        "%%html\n",
        "<marquee style='width: 100%; color: blue;'><b>Monero - Monero - Monero - Monero - Monero - Monero - Monero - Monero - Monero - Monero - Monero - Monero - Monero - Monero - Monero - Monero - Monero - Monero - Monero - Monero </b></marquee>"
      ],
      "execution_count": 530,
      "outputs": [
        {
          "output_type": "display_data",
          "data": {
            "text/html": [
              "<marquee style='width: 100%; color: blue;'><b>Monero - Monero - Monero - Monero - Monero - Monero - Monero - Monero - Monero - Monero - Monero - Monero - Monero - Monero - Monero - Monero - Monero - Monero - Monero - Monero </b></marquee>"
            ],
            "text/plain": [
              "<IPython.core.display.HTML object>"
            ]
          },
          "metadata": {
            "tags": []
          }
        }
      ]
    },
    {
      "cell_type": "code",
      "metadata": {
        "colab": {
          "base_uri": "https://localhost:8080/"
        },
        "id": "9KecGUNSruxY",
        "outputId": "5aea5447-f4cd-4304-e98e-ae09aa370e63"
      },
      "source": [
        "print(\"Price predcition for\", dt.date.today() + dt.timedelta(days=1) ,\":\", \"%.2f\" % y_close_predict[0],\"Euros\")\n",
        "print(\"Price predcition for\", dt.date.today() + dt.timedelta(days=2) ,\":\", \"%.2f\" % y_close_predict[1],\"Euros\")\n",
        "print(\"Price predcition for\", dt.date.today() + dt.timedelta(days=3) ,\":\", \"%.2f\" % y_close_predict[2],\"Euros\")\n",
        "print(\"Price predcition for\", dt.date.today() + dt.timedelta(days=4) ,\":\", \"%.2f\" % y_close_predict[3],\"Euros\")\n",
        "print(\"Price predcition for\", dt.date.today() + dt.timedelta(days=5) ,\":\", \"%.2f\" % y_close_predict[4],\"Euros\")\n",
        "print(\"Price predcition for\", dt.date.today() + dt.timedelta(days=6) ,\":\", \"%.2f\" % y_close_predict[5],\"Euros\")\n",
        "print(\"Price predcition for\", dt.date.today() + dt.timedelta(days=7) ,\":\", \"%.2f\" % y_close_predict[6],\"Euros\")\n",
        "print(\"Price predcition for\", dt.date.today() + dt.timedelta(days=8) ,\":\", \"%.2f\" % y_close_predict[7],\"Euros\")\n",
        "print(\"Price predcition for\", dt.date.today() + dt.timedelta(days=9) ,\":\", \"%.2f\" % y_close_predict[8],\"Euros\")\n",
        "print(\"Price predcition for\", dt.date.today() + dt.timedelta(days=10) ,\":\", \"%.2f\" % y_close_predict[9],\"Euros\")\n",
        "print(\"Price predcition for\", dt.date.today() + dt.timedelta(days=11) ,\":\", \"%.2f\" % y_close_predict[10],\"Euros\")\n",
        "print(\"Price predcition for\", dt.date.today() + dt.timedelta(days=12) ,\":\", \"%.2f\" % y_close_predict[11],\"Euros\")\n",
        "print(\"Price predcition for\", dt.date.today() + dt.timedelta(days=13) ,\":\", \"%.2f\" % y_close_predict[12],\"Euros\")\n",
        "print(\"Price predcition for\", dt.date.today() + dt.timedelta(days=14) ,\":\", \"%.2f\" % y_close_predict[13],\"Euros\")"
      ],
      "execution_count": 531,
      "outputs": [
        {
          "output_type": "stream",
          "text": [
            "Price predcition for 2020-11-22 : 114.59 Euros\n",
            "Price predcition for 2020-11-23 : 115.19 Euros\n",
            "Price predcition for 2020-11-24 : 115.80 Euros\n",
            "Price predcition for 2020-11-25 : 116.41 Euros\n",
            "Price predcition for 2020-11-26 : 117.03 Euros\n",
            "Price predcition for 2020-11-27 : 117.65 Euros\n",
            "Price predcition for 2020-11-28 : 118.27 Euros\n",
            "Price predcition for 2020-11-29 : 118.90 Euros\n",
            "Price predcition for 2020-11-30 : 119.53 Euros\n",
            "Price predcition for 2020-12-01 : 120.17 Euros\n",
            "Price predcition for 2020-12-02 : 120.80 Euros\n",
            "Price predcition for 2020-12-03 : 121.45 Euros\n",
            "Price predcition for 2020-12-04 : 122.09 Euros\n",
            "Price predcition for 2020-12-05 : 122.74 Euros\n"
          ],
          "name": "stdout"
        }
      ]
    },
    {
      "cell_type": "code",
      "metadata": {
        "colab": {
          "base_uri": "https://localhost:8080/",
          "height": 339
        },
        "id": "3jj5ynjNTSMu",
        "outputId": "8c9013d8-c68f-4eed-a769-9dd513cbec4e"
      },
      "source": [
        "plt.plot(x, dataframe[\"close\"], label=\"History\")\n",
        "plt.plot(x,y_close_learned, color=\"r\", label=\"model\")\n",
        "plt.plot(xdaysfutures, y_close_predict, color=\"g\", label=\"Future Predictions\")\n",
        "plt.suptitle(\"Monero Predictions\")\n",
        "plt.legend()\n",
        "plt.xlabel(\"Dates\")\n",
        "plt.ylabel(\"Euros\")\n",
        "plt.xticks(rotation=90)\n",
        "plt.show()"
      ],
      "execution_count": 532,
      "outputs": [
        {
          "output_type": "display_data",
          "data": {
            "image/png": "[encoded data removed]",
            "text/plain": [
              "<Figure size 432x288 with 1 Axes>"
            ]
          },
          "metadata": {
            "tags": [],
            "needs_background": "light"
          }
        }
      ]
    },
    {
      "cell_type": "code",
      "metadata": {
        "colab": {
          "base_uri": "https://localhost:8080/",
          "height": 541
        },
        "id": "1y4bjcdLImvS",
        "outputId": "1e7cf10b-7886-479a-8166-70d6dba18991"
      },
      "source": [
        "layout = dict(\n",
        "    title = \"Monero prediction\",\n",
        "    xaxis=go.layout.XAxis(title=go.layout.xaxis.Title(text=\"Date\")),\n",
        "    yaxis=go.layout.YAxis(title=go.layout.yaxis.Title(text=\"Price € - Euros\"))\n",
        ")\n",
        "\n",
        "\n",
        "\n",
        "candlefigure = go.Figure(data=[go.Candlestick(x=result[\"time\"],\n",
        "                        open=result[\"open\"],\n",
        "                        high=result[\"high\"],\n",
        "                        low=result[\"low\"],\n",
        "                        close=result[\"close\"] )])\n",
        "\n",
        "\n",
        "candlefigurelayout = go.Figure(data=candlefigure, layout=layout)\n",
        "\n",
        "candlefigurelayout.show()"
      ],
      "execution_count": 533,
      "outputs": [
        {
          "output_type": "display_data",
          "data": {
            "text/html": [
              "<html>\n",
              "<head><meta charset=\"utf-8\" /></head>\n",
              "<body>\n",
              "    <div>\n",
              "            <script src=\"https://cdnjs.cloudflare.com/ajax/libs/mathjax/2.7.5/MathJax.js?config=TeX-AMS-MML_SVG\"></script><script type=\"text/javascript\">if (window.MathJax) {MathJax.Hub.Config({SVG: {font: \"STIX-Web\"}});}</script>\n",
              "                <script type=\"text/javascript\">window.PlotlyConfig = {MathJaxConfig: 'local'};</script>\n",
              "        <script src=\"https://cdn.plot.ly/plotly-latest.min.js\"></script>    \n",
              "            <div id=\"6ad54ba6-000a-4647-aa94-5883c59489c8\" class=\"plotly-graph-div\" style=\"height:525px; width:100%;\"></div>\n",
              "            <script type=\"text/javascript\">\n",
              "                \n",
              "                    window.PLOTLYENV=window.PLOTLYENV || {};\n",
              "                    \n",
              "                if (document.getElementById(\"6ad54ba6-000a-4647-aa94-5883c59489c8\")) {\n",
              "                    Plotly.newPlot(\n",
              "                        '6ad54ba6-000a-4647-aa94-5883c59489c8',\n",
              "                        [{\"close\": [47.97, 49.68, 45.0, 40.5, 40.66, 39.13, 41.05, 38.44, 36.96, 37.95, 35.5, 34.14, 33.76, 34.18, 38.14, 40.59, 39.88, 47.27, 45.45, 45.43, 46.13, 48.84, 44.16, 42.86, 38.37, 43.09, 41.01, 42.21, 39.88, 41.92, 45.76, 43.32, 43.98, 43.53, 48.02, 46.02, 46.05, 45.22, 39.12, 39.52, 38.89, 37.18, 39.75, 38.98, 40.29, 39.76, 39.33, 40.39, 38.35, 38.75, 40.16, 39.27, 40.42, 40.9, 39.7, 40.3, 37.9, 37.54, 38.04, 37.86, 37.79, 37.34, 36.99, 36.88, 37.49, 37.42, 37.75, 42.1, 42.16, 43.49, 42.07, 42.75, 43.09, 40.99, 41.3, 40.88, 41.99, 44.87, 45.42, 44.77, 43.4, 45.21, 47.55, 41.61, 42.7, 41.96, 42.79, 41.86, 42.58, 42.68, 42.6, 41.6, 43.37, 43.71, 44.28, 43.15, 43.76, 44.1, 43.66, 44.07, 44.42, 44.7, 45.64, 46.75, 46.06, 45.48, 46.25, 47.64, 45.81, 46.83, 46.37, 46.49, 45.03, 45.73, 47.33, 46.81, 47.55, 47.55, 49.85, 53.71, 61.77, 58.41, 56.75, 61.34, 60.68, 62.53, 63.02, 60.65, 62.98, 59.33, 58.65, 57.83, 58.93, 56.94, 61.13, 59.65, 61.54, 61.26, 61.44, 61.07, 61.11, 61.51, 60.78, 54.58, 54.75, 55.51, 54.16, 54.84, 55.52, 57.9, 57.04, 59.0, 60.6, 59.07, 60.23, 58.36, 60.37, 58.49, 60.95, 69.99, 66.98, 70.99, 73.9, 84.13, 78.04, 74.29, 71.6, 81.08, 78.61, 80.27, 74.61, 75.88, 76.72, 77.9, 82.86, 87.77, 86.01, 84.93, 82.52, 83.81, 83.6, 85.51, 79.06, 73.58, 75.96, 77.11, 77.93, 77.55, 74.26, 77.0, 77.03, 80.03, 79.7, 81.12, 84.51, 85.67, 87.52, 86.43, 89.4, 93.14, 97.35, 100.68, 100.11, 103.36, 98.55, 89.4, 83.3, 89.18, 87.55, 77.23, 78.6, 76.57, 80.09, 78.21, 80.31, 84.19, 95.5, 91.21, 88.98, 84.66, 79.45, 87.12, 83.29, 78.35, 80.15, 66.17, 68.45, 75.44, 73.57, 76.3, 74.83, 74.45, 72.71, 72.53, 72.85, 72.08, 70.62, 72.15, 70.18, 70.43, 73.11, 74.21, 75.66, 79.08, 79.36, 83.87, 80.17, 87.01, 85.56, 83.27, 81.1, 82.59, 81.54, 76.64, 70.48, 74.4, 74.27, 74.01, 79.47, 81.3, 77.46, 72.71, 74.15, 73.88, 72.53, 72.37, 71.86, 70.82, 65.22, 60.58, 61.98, 61.5, 65.33, 66.82, 68.5, 67.06, 68.82, 68.38, 70.82, 69.91, 68.03, 65.28, 67.22, 67.9, 69.28, 68.71, 67.96, 68.32, 67.0, 73.9, 68.71, 66.97, 65.89, 66.6, 62.57, 53.73, 54.73, 52.68, 52.75, 53.03, 51.52, 52.0, 50.98, 51.2, 51.2, 52.26, 51.55, 49.7, 51.27, 50.72, 52.1, 50.63, 49.09, 48.69, 48.4, 47.84, 47.1, 49.5, 50.28, 49.69, 48.9, 50.68, 51.8, 50.9, 47.84, 48.49, 52.94, 51.18, 53.78, 53.59, 53.54, 52.57, 53.06, 54.47, 55.88, 56.84, 56.8, 56.61, 57.8, 57.04, 55.23, 56.35, 58.0, 55.97, 56.33, 59.35, 58.95, 55.82, 55.77, 55.95, 52.67, 52.69, 52.31, 48.86, 46.54, 47.2, 43.08, 45.45, 46.83, 50.84, 49.27, 50.6, 49.76, 48.6, 48.7, 48.35, 47.64, 48.35, 48.92, 49.31, 48.71, 49.4, 47.67, 47.58, 47.22, 47.19, 46.06, 45.5, 43.99, 40.16, 42.98, 42.56, 42.24, 40.77, 42.75, 42.53, 41.36, 41.48, 40.77, 40.23, 40.59, 41.62, 41.0, 39.65, 40.6, 40.59, 45.45, 45.29, 47.97, 52.8, 52.42, 53.46, 52.9, 52.48, 52.32, 53.29, 52.11, 56.23, 61.13, 58.91, 62.1, 60.3, 58.64, 58.57, 59.22, 58.59, 56.23, 55.79, 56.0, 57.65, 59.25, 61.53, 63.21, 67.94, 64.77, 65.84, 67.3, 69.48, 67.87, 70.44, 71.22, 72.45, 73.81, 80.15, 77.65, 82.19, 87.42, 85.39, 88.0, 82.5, 81.21, 76.36, 80.27, 72.01, 70.92, 74.09, 73.01, 78.99, 73.3, 70.85, 64.98, 63.7, 62.11, 60.0, 58.51, 61.75, 58.79, 59.31, 60.84, 61.2, 58.23, 49.6, 48.86, 48.86, 48.06, 28.89, 33.7, 32.78, 33.93, 30.55, 33.38, 34.07, 38.72, 37.9, 38.78, 35.89, 41.6, 43.94, 43.42, 45.88, 43.02, 42.54, 39.6, 42.3, 43.52, 44.44, 46.73, 49.25, 50.33, 49.38, 54.8, 51.48, 53.35, 53.69, 48.98, 49.32, 49.37, 48.77, 49.33, 48.96, 52.34, 51.93, 53.67, 52.69, 50.74, 51.09, 52.61, 54.82, 56.24, 56.02, 56.79, 57.71, 57.6, 61.05, 57.08, 57.6, 58.9, 57.06, 55.96, 55.83, 53.71, 59.66, 58.6, 58.3, 54.3, 55.13, 56.86, 60.25, 60.48, 57.95, 60.5, 60.07, 61.25, 61.0, 58.94, 56.27, 57.93, 58.15, 55.8, 56.55, 56.51, 58.71, 60.6, 59.66, 61.43, 58.71, 60.4, 59.64, 59.75, 60.03, 59.89, 60.22, 58.73, 60.39, 60.0, 61.31, 56.39, 58.25, 58.99, 58.13, 57.13, 58.47, 58.01, 57.97, 57.43, 57.18, 57.59, 58.54, 59.0, 57.56, 57.32, 57.06, 55.59, 56.45, 56.98, 56.64, 57.6, 58.2, 55.78, 56.9, 56.32, 57.46, 57.43, 58.42, 59.75, 59.69, 60.97, 61.23, 61.02, 59.73, 61.89, 59.46, 59.21, 59.89, 60.48, 60.62, 60.68, 61.69, 63.17, 61.69, 63.1, 67.09, 66.84, 69.5, 67.27, 68.43, 71.77, 76.31, 72.27, 75.98, 73.86, 76.15, 80.46, 79.79, 80.41, 78.82, 79.79, 74.38, 76.1, 77.77, 77.24, 76.07, 76.94, 78.82, 78.35, 77.17, 85.73, 78.42, 80.39, 77.5, 79.53, 75.34, 75.38, 75.83, 79.54, 78.17, 80.82, 78.22, 81.88, 77.28, 65.67, 69.53, 65.45, 67.9, 69.74, 71.42, 71.42, 72.28, 71.13, 73.25, 72.77, 77.32, 76.91, 74.83, 78.29, 78.24, 79.68, 78.39, 75.89, 79.53, 74.8, 78.39, 79.89, 79.89, 79.89, 79.89, 79.89, 92.61, 88.48, 87.22, 89.02, 90.01, 95.62, 90.94, 93.39, 94.59, 98.05, 97.78, 106.46, 109.99, 109.8, 110.09, 111.7, 103.54, 102.76, 106.39, 106.86, 99.8, 102.3, 107.73, 107.35, 108.73, 110.5, 111.66, 113.93, 107.99, 106.76, 105.5, 108.62, 109.0, 102.3, 103.08, 98.32, 101.19, 100.84, 93.1, 100.92, 97.88, 98.04, 96.25, 95.13, 96.52, 98.93, 97.17, 99.88, 105.84, 104.65, 100.22, 102.03, 108.61, 114.58677523653023, 115.19188101007603, 115.80065867980011, 116.41311796777882, 117.02926859376021, 117.64912027702667, 118.2726827391889, 118.89996569952928, 119.53097887872718, 120.16573199653067, 120.80423477455042, 121.44649693067186, 122.0925281883683, 122.74233826459385], \"high\": [54.82, 51.58, 49.79, 46.95, 41.25, 42.81, 42.76, 41.54, 38.56, 39.21, 38.12, 37.15, 34.56, 35.65, 39.74, 42.09, 44.64, 47.97, 48.39, 45.92, 48.04, 51.1, 48.88, 45.4, 43.02, 44.79, 43.77, 42.38, 42.74, 41.92, 46.99, 46.12, 44.92, 45.0, 48.22, 48.4, 47.8, 47.64, 46.07, 40.42, 39.67, 39.56, 40.47, 40.49, 40.29, 40.19, 39.78, 40.84, 40.45, 39.34, 40.65, 40.32, 41.17, 41.0, 40.89, 40.46, 40.43, 38.32, 38.87, 38.43, 38.13, 37.8, 37.87, 37.12, 37.71, 37.5, 38.15, 43.44, 42.58, 43.64, 43.6, 43.19, 44.43, 43.37, 42.34, 42.47, 42.29, 45.4, 46.87, 46.07, 45.15, 45.21, 47.87, 48.99, 42.92, 42.76, 42.81, 43.01, 42.76, 42.72, 42.95, 43.0, 43.69, 44.28, 44.99, 44.67, 44.49, 44.11, 44.04, 44.24, 44.92, 45.67, 45.8, 47.65, 46.91, 46.39, 46.9, 47.75, 47.39, 47.0, 46.91, 46.61, 46.5, 45.8, 47.44, 47.36, 48.13, 47.55, 50.98, 53.77, 62.87, 64.82, 59.77, 61.8, 62.55, 63.29, 64.83, 63.14, 64.55, 63.46, 60.86, 59.28, 59.79, 59.49, 62.06, 61.9, 62.5, 62.09, 62.59, 62.52, 61.86, 63.5, 63.31, 60.98, 56.47, 56.92, 56.2, 54.85, 55.56, 57.91, 58.61, 60.66, 61.13, 61.14, 60.92, 62.62, 60.37, 61.35, 61.66, 72.87, 72.97, 73.88, 75.53, 85.0, 86.75, 78.42, 75.21, 81.32, 80.72, 83.0, 81.87, 76.68, 78.98, 78.71, 83.65, 88.58, 88.13, 86.44, 88.7, 83.93, 84.25, 86.63, 85.87, 79.05, 77.27, 77.59, 79.43, 78.49, 77.98, 77.97, 77.91, 80.32, 81.9, 81.5, 85.0, 86.9, 89.24, 88.23, 91.27, 97.15, 97.8, 104.91, 105.18, 105.44, 103.74, 106.0, 90.65, 89.99, 89.51, 88.57, 83.22, 78.87, 81.97, 82.83, 82.85, 88.48, 95.74, 95.85, 93.53, 90.89, 84.47, 87.59, 87.24, 84.32, 80.21, 79.37, 72.03, 76.36, 75.33, 78.59, 78.34, 76.45, 75.49, 73.68, 75.36, 73.17, 74.68, 74.95, 73.11, 72.63, 74.39, 74.79, 76.68, 79.31, 79.9, 85.01, 86.5, 87.24, 87.42, 85.72, 84.82, 82.61, 82.13, 81.83, 76.53, 74.89, 75.28, 75.69, 79.59, 81.63, 82.0, 77.62, 75.46, 75.42, 73.8, 74.21, 75.63, 71.72, 71.79, 65.22, 62.23, 62.2, 71.16, 67.88, 69.0, 67.87, 69.27, 72.4, 71.0, 71.42, 70.47, 68.87, 67.35, 68.19, 69.28, 69.44, 69.0, 68.97, 68.68, 74.64, 74.2, 70.7, 67.08, 67.45, 66.48, 64.04, 56.12, 55.04, 53.88, 53.76, 53.07, 52.7, 53.42, 52.03, 51.2, 52.71, 52.51, 54.5, 52.1, 51.89, 52.4, 53.09, 51.59, 49.84, 49.03, 48.7, 49.01, 49.76, 54.4, 52.44, 49.62, 51.53, 53.12, 52.66, 51.42, 49.2, 53.87, 59.57, 55.0, 55.54, 56.78, 53.78, 53.97, 54.76, 56.55, 58.16, 57.8, 57.43, 58.16, 60.22, 57.52, 56.56, 58.69, 58.15, 59.42, 59.49, 59.66, 59.55, 56.76, 57.07, 56.0, 53.78, 53.51, 52.8, 49.47, 47.24, 47.3, 47.88, 47.33, 51.96, 51.7, 51.09, 50.84, 49.79, 49.27, 50.02, 51.4, 48.71, 49.86, 49.83, 49.64, 49.4, 49.54, 48.2, 48.51, 47.85, 47.2, 46.69, 45.75, 44.22, 44.28, 44.93, 42.69, 42.2, 43.23, 43.83, 43.27, 42.13, 41.8, 41.27, 40.83, 42.15, 41.49, 40.93, 40.93, 41.15, 46.35, 45.9, 48.73, 52.8, 53.66, 54.04, 53.57, 53.56, 57.66, 53.8, 53.24, 56.54, 61.88, 61.65, 64.93, 63.77, 62.4, 59.9, 60.09, 59.8, 58.62, 56.98, 56.5, 58.28, 60.0, 61.65, 64.22, 68.01, 68.86, 66.49, 70.1, 70.61, 69.73, 71.9, 72.77, 73.59, 74.56, 80.15, 80.2, 82.19, 87.57, 88.0, 88.03, 89.47, 85.0, 82.06, 80.94, 81.16, 73.34, 76.03, 76.33, 79.0, 79.68, 75.55, 71.42, 66.27, 64.98, 62.82, 61.35, 62.29, 61.97, 61.1, 62.58, 61.76, 61.7, 58.27, 50.75, 48.86, 49.34, 48.12, 36.93, 36.52, 36.95, 34.75, 34.4, 34.56, 40.64, 43.0, 40.12, 40.03, 41.6, 44.65, 44.69, 46.8, 46.79, 43.6, 42.51, 43.35, 43.99, 44.8, 49.0, 50.45, 51.25, 50.38, 54.84, 56.0, 53.53, 54.09, 53.56, 50.27, 51.0, 49.2, 50.5, 50.56, 53.0, 52.81, 54.01, 53.94, 53.8, 51.59, 53.0, 56.5, 57.93, 57.6, 57.4, 57.79, 58.93, 61.74, 63.2, 59.39, 59.15, 59.2, 57.13, 57.13, 57.44, 59.99, 60.74, 59.72, 58.19, 57.47, 57.39, 61.3, 60.85, 60.85, 60.85, 61.7, 62.34, 61.52, 61.27, 59.34, 58.37, 59.62, 58.56, 57.25, 57.21, 59.71, 60.83, 61.09, 61.69, 61.85, 61.33, 62.82, 60.95, 60.98, 61.13, 60.4, 60.45, 60.4, 60.6, 61.38, 61.51, 58.94, 59.1, 59.1, 58.19, 58.55, 59.45, 58.74, 58.34, 57.7, 58.06, 59.3, 59.5, 59.53, 57.96, 57.53, 57.37, 56.71, 57.59, 57.36, 57.6, 59.33, 58.86, 57.58, 57.37, 57.46, 57.89, 59.4, 60.85, 60.5, 61.71, 62.25, 61.9, 61.01, 63.5, 62.66, 59.79, 60.69, 60.49, 61.58, 62.73, 61.81, 63.9, 63.08, 63.6, 67.09, 67.88, 71.0, 70.52, 69.87, 71.85, 76.68, 77.5, 76.33, 76.54, 76.37, 81.23, 80.84, 80.83, 80.58, 80.29, 80.95, 76.15, 78.0, 78.75, 77.64, 77.31, 80.08, 81.55, 79.24, 85.73, 89.29, 80.7, 80.45, 79.89, 79.72, 76.14, 76.58, 80.24, 80.5, 80.93, 81.1, 81.9, 81.85, 77.5, 70.59, 70.61, 68.66, 70.2, 72.23, 72.84, 72.85, 72.58, 73.54, 76.0, 77.88, 78.33, 78.45, 79.4, 80.39, 80.42, 79.95, 79.72, 82.38, 80.6, 78.99, 80.98, 79.89, 79.89, 79.89, 79.89, 94.14, 96.44, 89.86, 89.02, 93.39, 97.18, 96.54, 95.88, 95.99, 99.88, 99.99, 106.47, 114.51, 111.35, 113.91, 113.0, 113.0, 105.16, 106.81, 110.73, 108.13, 105.94, 109.5, 107.35, 109.19, 112.99, 117.5, 116.78, 114.82, 110.36, 107.32, 110.0, 109.04, 109.91, 103.75, 104.09, 101.98, 104.85, 106.19, 101.44, 102.4, 99.62, 100.05, 98.11, 97.47, 99.39, 99.84, 101.49, 105.84, 106.38, 104.23, 103.78, 109.0, 117.38695914624259, 118.00494391331449, 118.62668507220224, 119.25219257036224, 119.88147635897622, 120.51454638596624, 121.15141259832308, 121.79208494722843, 122.43657338153571, 123.08488784963265, 123.73703830083832, 124.39303468260914, 125.05288694612682, 125.71660503884777], \"low\": [46.22, 46.51, 44.8, 40.21, 37.06, 37.6, 38.91, 37.91, 36.55, 36.56, 35.09, 33.64, 33.18, 34.0, 34.05, 37.28, 39.35, 39.56, 44.05, 43.69, 45.2, 46.3, 41.51, 40.77, 37.56, 37.83, 41.01, 40.84, 39.06, 39.3, 41.62, 42.96, 42.99, 43.29, 43.12, 45.38, 45.56, 44.86, 37.61, 38.47, 38.61, 37.01, 37.29, 38.5, 38.83, 38.82, 38.93, 39.37, 37.98, 38.11, 38.54, 39.16, 39.1, 39.38, 39.7, 39.2, 37.3, 37.1, 37.12, 37.25, 37.01, 35.83, 36.4, 36.29, 36.89, 36.55, 37.44, 37.71, 41.7, 41.04, 41.0, 41.34, 42.54, 40.1, 40.56, 40.88, 40.72, 41.74, 44.61, 44.0, 43.24, 43.5, 44.35, 41.61, 41.7, 41.76, 41.44, 41.86, 41.64, 41.87, 42.16, 40.51, 41.13, 42.91, 43.7, 42.7, 43.14, 43.46, 42.5, 42.74, 43.91, 43.61, 44.68, 45.84, 45.42, 45.03, 45.3, 46.04, 44.86, 45.64, 45.84, 46.08, 44.08, 43.97, 45.66, 46.44, 46.34, 47.55, 47.53, 49.59, 52.65, 55.06, 55.03, 56.7, 59.36, 60.67, 61.33, 60.25, 60.48, 55.51, 58.14, 56.94, 57.09, 56.37, 56.32, 59.12, 59.62, 60.01, 60.84, 60.08, 60.51, 60.82, 58.39, 54.09, 53.11, 54.48, 53.64, 52.83, 53.65, 55.3, 56.23, 56.51, 57.89, 58.29, 57.56, 58.36, 57.8, 57.0, 57.83, 61.07, 64.05, 66.75, 70.64, 74.47, 75.63, 67.59, 71.33, 72.21, 75.42, 78.65, 74.61, 72.9, 74.86, 76.62, 76.56, 83.02, 85.21, 81.14, 79.29, 80.49, 81.81, 83.19, 79.05, 71.77, 73.93, 73.63, 75.93, 76.35, 72.74, 73.2, 75.85, 75.99, 79.44, 78.18, 80.69, 83.76, 85.81, 85.19, 85.86, 88.77, 93.57, 96.0, 99.68, 98.11, 98.03, 86.11, 75.0, 81.25, 81.43, 76.52, 73.78, 72.54, 76.22, 77.95, 76.61, 79.95, 82.72, 90.0, 87.42, 82.28, 77.77, 76.61, 79.12, 76.05, 68.0, 65.75, 64.31, 67.23, 71.89, 72.65, 74.45, 72.69, 71.78, 70.72, 72.08, 70.86, 69.5, 69.3, 57.24, 69.64, 70.13, 72.21, 73.84, 75.56, 77.16, 79.41, 78.43, 79.43, 81.62, 81.3, 80.21, 79.92, 80.55, 75.53, 69.69, 66.3, 70.07, 73.01, 73.8, 76.34, 76.16, 71.31, 71.11, 73.47, 70.51, 71.01, 71.13, 69.87, 65.0, 60.51, 59.51, 60.37, 60.95, 63.83, 66.76, 65.0, 66.79, 68.15, 67.13, 68.83, 67.5, 65.09, 63.28, 65.2, 65.8, 66.67, 66.79, 65.01, 66.59, 66.93, 66.0, 66.11, 65.52, 64.23, 62.1, 52.22, 52.7, 49.81, 50.61, 51.55, 50.0, 48.89, 50.83, 50.0, 51.2, 49.44, 50.5, 49.63, 42.01, 50.21, 50.06, 50.05, 48.94, 48.57, 47.4, 47.59, 46.87, 46.91, 49.21, 49.69, 48.07, 48.28, 50.09, 50.35, 46.82, 45.91, 47.39, 49.75, 50.31, 52.03, 53.1, 51.75, 51.05, 52.4, 54.36, 55.0, 56.0, 55.62, 56.52, 56.66, 54.32, 55.01, 56.11, 55.3, 56.0, 56.01, 57.65, 55.82, 55.39, 55.46, 52.18, 52.12, 52.0, 48.0, 43.51, 45.5, 42.97, 41.4, 45.08, 45.69, 48.88, 49.2, 48.6, 47.53, 47.5, 47.22, 46.8, 46.96, 48.13, 48.62, 48.48, 48.01, 47.18, 47.39, 46.74, 47.0, 45.87, 45.5, 43.28, 39.99, 39.3, 41.44, 42.0, 40.77, 40.86, 42.38, 41.15, 40.59, 40.46, 38.5, 40.23, 40.39, 40.48, 39.56, 39.59, 39.65, 40.66, 44.6, 45.28, 48.01, 49.93, 49.92, 51.06, 51.15, 52.09, 51.68, 50.94, 51.83, 55.55, 56.23, 57.59, 59.77, 56.71, 56.0, 57.83, 57.92, 54.88, 52.48, 54.36, 55.15, 57.43, 58.81, 61.2, 62.02, 62.22, 64.25, 64.01, 66.9, 66.17, 67.47, 69.57, 71.3, 70.28, 73.62, 75.63, 75.65, 82.03, 82.79, 83.95, 79.88, 73.78, 72.97, 75.24, 71.1, 69.64, 70.44, 72.44, 72.86, 71.1, 69.38, 63.0, 61.3, 59.97, 60.0, 57.32, 58.15, 58.18, 58.4, 59.59, 60.17, 58.0, 49.2, 45.81, 48.86, 44.98, 28.3, 23.46, 32.07, 32.4, 26.21, 30.21, 31.35, 33.47, 34.3, 36.1, 35.7, 35.47, 40.35, 41.9, 43.58, 42.85, 40.7, 39.6, 39.44, 42.3, 42.36, 43.91, 46.44, 48.41, 48.9, 49.31, 50.18, 51.12, 51.9, 48.1, 48.17, 48.44, 47.01, 48.48, 48.79, 47.55, 51.67, 51.7, 52.11, 49.95, 50.1, 50.6, 52.0, 55.06, 55.25, 55.61, 56.38, 56.66, 57.2, 55.97, 57.1, 57.79, 56.48, 53.38, 55.31, 53.4, 53.2, 58.36, 57.68, 50.0, 51.86, 55.04, 56.86, 58.17, 57.72, 57.5, 59.81, 60.04, 59.86, 58.08, 54.41, 55.9, 57.42, 55.8, 55.3, 55.6, 56.14, 57.5, 59.11, 58.92, 57.88, 57.1, 57.4, 59.03, 58.84, 59.43, 59.5, 57.5, 58.73, 59.5, 59.59, 55.68, 55.9, 57.9, 57.42, 55.12, 56.85, 57.58, 57.17, 56.75, 56.83, 57.12, 57.65, 58.08, 56.96, 56.18, 56.23, 54.18, 55.25, 55.65, 56.36, 56.44, 55.77, 55.78, 55.75, 54.69, 55.77, 56.58, 57.17, 57.66, 57.93, 59.61, 60.46, 59.75, 58.87, 59.26, 58.56, 58.9, 58.82, 59.42, 60.19, 60.52, 60.04, 61.41, 61.69, 61.63, 62.85, 63.93, 66.74, 67.2, 66.76, 67.69, 71.08, 68.13, 71.42, 72.8, 73.01, 74.69, 77.31, 78.12, 78.47, 76.61, 72.0, 71.9, 72.61, 76.04, 75.57, 74.65, 75.73, 77.18, 74.76, 77.46, 78.42, 75.65, 77.0, 76.74, 73.0, 74.33, 72.91, 75.39, 77.85, 78.1, 78.22, 77.02, 74.76, 65.0, 65.22, 62.9, 63.8, 65.09, 66.95, 69.93, 71.06, 70.37, 70.27, 72.19, 71.4, 74.36, 74.01, 74.65, 77.13, 77.6, 76.7, 73.18, 74.5, 74.29, 74.55, 77.8, 79.89, 79.89, 79.89, 79.89, 83.3, 86.45, 80.28, 86.2, 86.82, 89.01, 89.81, 87.3, 91.46, 92.28, 92.0, 97.46, 106.14, 105.13, 106.81, 105.62, 102.05, 102.05, 102.85, 104.99, 99.31, 96.0, 100.7, 103.6, 105.62, 107.4, 109.7, 111.19, 105.43, 104.14, 101.6, 104.31, 106.24, 99.85, 99.83, 97.51, 94.22, 98.33, 92.3, 92.07, 96.01, 96.97, 96.25, 93.54, 94.79, 96.03, 95.68, 96.43, 99.64, 100.7, 99.0, 99.91, 101.15, 110.80243589100428, 111.3861722482834, 111.97344473213889, 112.56426269630902, 113.15863549499772, 113.75657248008065, 114.35808300389908, 114.96317642112263, 115.57186208548956, 116.18414934887551, 116.80004756548442, 117.41956608719192, 118.04271426727064, 118.66950146039017], \"open\": [51.72, 48.1, 49.79, 45.37, 40.2, 40.7, 39.32, 41.39, 38.42, 36.66, 38.12, 35.06, 33.87, 34.24, 34.23, 38.05, 41.16, 39.84, 47.28, 45.08, 45.32, 46.3, 48.88, 44.11, 42.64, 38.5, 43.3, 41.33, 42.19, 39.73, 42.02, 46.0, 43.12, 44.19, 43.36, 48.28, 45.63, 46.24, 45.31, 38.93, 39.37, 38.86, 37.39, 40.26, 38.94, 40.19, 39.67, 39.49, 40.45, 38.33, 38.96, 40.32, 39.36, 40.35, 40.89, 39.9, 40.32, 37.94, 37.34, 37.94, 37.52, 37.68, 37.24, 37.0, 36.98, 37.5, 37.49, 37.75, 42.12, 42.37, 43.52, 42.01, 42.64, 42.96, 40.78, 41.4, 40.72, 41.79, 45.1, 45.24, 44.87, 43.5, 45.05, 47.52, 41.73, 42.54, 42.15, 42.65, 41.84, 42.32, 42.78, 42.8, 41.41, 43.4, 43.98, 44.52, 43.14, 43.96, 44.01, 43.46, 44.24, 44.31, 44.8, 45.91, 46.78, 46.2, 45.46, 46.37, 47.31, 45.74, 46.65, 46.32, 46.3, 44.98, 45.74, 47.12, 46.73, 47.55, 47.63, 49.93, 53.61, 61.81, 58.86, 56.84, 61.8, 60.67, 62.4, 63.14, 60.5, 63.03, 59.22, 58.38, 57.77, 59.17, 56.36, 61.77, 59.62, 61.62, 61.54, 62.16, 61.14, 60.91, 61.68, 60.63, 54.03, 54.73, 55.74, 53.74, 54.14, 55.5, 57.56, 57.18, 59.1, 60.6, 59.03, 60.11, 58.0, 60.43, 58.32, 61.07, 69.71, 67.02, 70.9, 74.47, 84.51, 77.99, 74.32, 72.21, 80.27, 78.84, 79.99, 74.48, 76.2, 76.62, 78.12, 83.27, 87.94, 85.49, 84.31, 82.8, 83.9, 83.19, 85.37, 79.05, 74.47, 75.57, 77.25, 77.73, 77.59, 73.92, 77.05, 76.89, 80.06, 79.85, 81.15, 84.9, 86.0, 88.22, 86.4, 89.75, 93.59, 96.87, 100.18, 100.45, 103.61, 98.43, 89.38, 83.5, 89.1, 87.74, 77.46, 78.29, 77.12, 80.06, 77.81, 79.95, 83.98, 95.7, 90.8, 88.68, 84.47, 79.8, 87.24, 83.41, 78.52, 79.3, 66.46, 68.0, 74.4, 73.71, 76.04, 75.53, 74.49, 72.6, 72.1, 72.33, 72.5, 70.41, 72.04, 70.02, 70.47, 73.07, 74.57, 75.56, 79.11, 79.41, 83.13, 80.15, 87.19, 85.65, 83.78, 80.94, 82.1, 81.55, 76.53, 71.07, 74.5, 74.63, 74.11, 79.18, 81.2, 77.62, 72.76, 73.95, 73.8, 72.48, 72.47, 71.7, 70.66, 65.22, 60.68, 62.01, 61.45, 65.41, 66.97, 67.87, 67.02, 69.0, 68.15, 70.81, 69.85, 68.11, 65.41, 67.56, 67.91, 69.29, 68.94, 68.07, 68.28, 67.07, 73.8, 68.91, 66.91, 65.7, 66.48, 62.23, 54.02, 54.59, 52.52, 52.83, 53.07, 51.35, 51.8, 51.02, 51.2, 51.28, 52.22, 51.8, 49.7, 51.22, 50.72, 52.28, 50.54, 49.08, 48.66, 48.27, 48.17, 47.2, 49.21, 50.25, 49.62, 48.72, 50.61, 51.4, 50.89, 47.73, 48.2, 53.44, 51.2, 54.25, 53.49, 53.62, 52.7, 52.77, 54.44, 55.83, 57.07, 56.8, 56.59, 57.98, 57.0, 55.18, 56.35, 58.13, 56.03, 56.44, 59.38, 58.99, 55.92, 55.46, 55.94, 52.58, 52.81, 52.29, 48.86, 46.55, 47.3, 43.06, 45.45, 46.81, 50.87, 49.2, 50.6, 49.79, 48.44, 48.7, 48.17, 47.61, 48.25, 49.19, 49.28, 48.73, 49.49, 47.65, 47.59, 47.17, 47.16, 46.0, 45.59, 43.94, 40.25, 43.26, 42.68, 42.2, 40.86, 42.8, 42.44, 41.44, 41.41, 40.88, 40.3, 40.49, 41.45, 40.93, 39.65, 40.63, 40.66, 45.45, 45.29, 48.01, 52.87, 52.53, 53.4, 53.02, 52.12, 52.41, 53.24, 51.99, 56.03, 61.3, 58.93, 61.8, 60.3, 58.73, 58.45, 59.31, 58.62, 56.42, 55.79, 55.4, 57.83, 59.22, 61.65, 63.13, 67.82, 65.01, 65.78, 67.05, 69.49, 67.9, 70.83, 71.3, 72.43, 73.9, 80.15, 77.41, 82.28, 87.58, 85.2, 88.0, 82.58, 80.97, 75.84, 79.69, 71.96, 70.95, 74.12, 72.86, 78.58, 73.13, 70.4, 64.81, 63.58, 62.52, 60.0, 58.34, 61.83, 58.93, 59.59, 60.98, 61.44, 58.27, 49.63, 48.86, 48.61, 48.12, 28.99, 33.3, 32.55, 34.08, 30.7, 33.38, 34.1, 38.78, 37.79, 38.69, 35.64, 41.58, 43.89, 43.59, 45.87, 42.92, 42.46, 39.75, 42.42, 43.48, 44.62, 46.77, 49.1, 50.31, 49.31, 54.64, 51.51, 53.25, 53.46, 49.38, 49.32, 49.2, 48.74, 49.2, 48.77, 52.46, 52.06, 53.36, 52.53, 50.6, 50.89, 52.69, 55.19, 56.0, 56.06, 56.87, 57.82, 57.6, 61.05, 57.1, 57.79, 58.75, 57.06, 56.08, 55.67, 53.6, 59.7, 58.6, 58.19, 54.5, 55.04, 56.95, 60.4, 60.32, 58.0, 60.36, 60.08, 61.25, 61.01, 58.89, 56.06, 57.9, 58.32, 55.7, 56.54, 56.56, 58.57, 60.6, 59.48, 61.48, 58.56, 60.49, 59.72, 59.84, 60.25, 59.85, 59.92, 58.74, 60.39, 60.0, 61.4, 56.39, 58.38, 59.1, 58.08, 56.94, 58.55, 58.01, 57.92, 57.28, 57.24, 57.65, 58.62, 59.13, 57.67, 57.26, 57.12, 55.44, 56.49, 57.03, 56.62, 57.45, 58.15, 55.76, 56.99, 56.27, 57.38, 57.43, 58.4, 59.73, 59.69, 61.0, 61.4, 61.01, 59.76, 61.8, 59.36, 59.27, 59.89, 60.4, 60.61, 60.55, 61.64, 63.08, 61.69, 63.2, 67.06, 66.74, 69.44, 67.25, 68.48, 71.87, 76.34, 72.15, 76.0, 74.12, 76.15, 80.52, 79.86, 80.51, 79.03, 79.79, 74.28, 75.97, 77.77, 77.56, 76.06, 76.99, 78.9, 78.42, 77.54, 85.63, 78.42, 80.4, 77.3, 79.72, 74.88, 75.43, 76.0, 79.48, 78.21, 80.87, 78.33, 81.63, 77.1, 65.61, 69.68, 65.43, 67.83, 69.99, 71.48, 72.3, 72.56, 71.14, 73.24, 72.07, 77.39, 76.94, 74.9, 78.42, 78.37, 79.88, 78.13, 76.07, 79.81, 74.82, 78.85, 79.89, 79.89, 79.89, 79.89, 85.7, 92.64, 88.38, 86.96, 88.47, 89.97, 95.65, 90.84, 93.5, 94.46, 98.18, 97.55, 106.41, 109.01, 109.26, 109.39, 111.48, 103.57, 102.86, 106.4, 106.96, 99.81, 102.51, 107.34, 107.33, 108.83, 110.43, 111.25, 113.58, 107.71, 106.69, 105.23, 108.53, 109.0, 102.07, 103.37, 99.0, 101.0, 101.53, 93.08, 100.62, 98.0, 98.08, 96.25, 95.29, 96.24, 98.91, 97.06, 100.13, 105.84, 104.23, 100.17, 101.96, 113.98329347139224, 114.58296849997714, 115.18628613604233, 115.79325603041798, 116.40388783300295, 117.01819119090214, 117.63617575634271, 118.25785117829219, 118.88322710478678, 119.51231318851933, 120.14511907566339, 120.78165441844612, 121.42192886490375, 122.06595206493512], \"type\": \"candlestick\", \"x\": [\"2018-12-03T00:00:00\", \"2018-12-04T00:00:00\", \"2018-12-05T00:00:00\", \"2018-12-06T00:00:00\", \"2018-12-07T00:00:00\", \"2018-12-08T00:00:00\", \"2018-12-09T00:00:00\", \"2018-12-10T00:00:00\", \"2018-12-11T00:00:00\", \"2018-12-12T00:00:00\", \"2018-12-13T00:00:00\", \"2018-12-14T00:00:00\", \"2018-12-15T00:00:00\", \"2018-12-16T00:00:00\", \"2018-12-17T00:00:00\", \"2018-12-18T00:00:00\", \"2018-12-19T00:00:00\", \"2018-12-20T00:00:00\", \"2018-12-21T00:00:00\", \"2018-12-22T00:00:00\", \"2018-12-23T00:00:00\", \"2018-12-24T00:00:00\", \"2018-12-25T00:00:00\", \"2018-12-26T00:00:00\", \"2018-12-27T00:00:00\", \"2018-12-28T00:00:00\", \"2018-12-29T00:00:00\", \"2018-12-30T00:00:00\", \"2018-12-31T00:00:00\", \"2019-01-01T00:00:00\", \"2019-01-02T00:00:00\", \"2019-01-03T00:00:00\", \"2019-01-04T00:00:00\", \"2019-01-05T00:00:00\", \"2019-01-06T00:00:00\", \"2019-01-07T00:00:00\", \"2019-01-08T00:00:00\", \"2019-01-09T00:00:00\", \"2019-01-10T00:00:00\", \"2019-01-11T00:00:00\", \"2019-01-12T00:00:00\", \"2019-01-13T00:00:00\", \"2019-01-14T00:00:00\", \"2019-01-15T00:00:00\", \"2019-01-16T00:00:00\", \"2019-01-17T00:00:00\", \"2019-01-18T00:00:00\", \"2019-01-19T00:00:00\", \"2019-01-20T00:00:00\", \"2019-01-21T00:00:00\", \"2019-01-22T00:00:00\", \"2019-01-23T00:00:00\", \"2019-01-24T00:00:00\", \"2019-01-25T00:00:00\", \"2019-01-26T00:00:00\", \"2019-01-27T00:00:00\", \"2019-01-28T00:00:00\", \"2019-01-29T00:00:00\", \"2019-01-30T00:00:00\", \"2019-01-31T00:00:00\", \"2019-02-01T00:00:00\", \"2019-02-02T00:00:00\", \"2019-02-03T00:00:00\", \"2019-02-04T00:00:00\", \"2019-02-05T00:00:00\", \"2019-02-06T00:00:00\", \"2019-02-07T00:00:00\", \"2019-02-08T00:00:00\", \"2019-02-09T00:00:00\", \"2019-02-10T00:00:00\", \"2019-02-11T00:00:00\", \"2019-02-12T00:00:00\", \"2019-02-13T00:00:00\", \"2019-02-14T00:00:00\", \"2019-02-15T00:00:00\", \"2019-02-16T00:00:00\", \"2019-02-17T00:00:00\", \"2019-02-18T00:00:00\", \"2019-02-19T00:00:00\", \"2019-02-20T00:00:00\", \"2019-02-21T00:00:00\", \"2019-02-22T00:00:00\", \"2019-02-23T00:00:00\", \"2019-02-24T00:00:00\", \"2019-02-25T00:00:00\", \"2019-02-26T00:00:00\", \"2019-02-27T00:00:00\", \"2019-02-28T00:00:00\", \"2019-03-01T00:00:00\", \"2019-03-02T00:00:00\", \"2019-03-03T00:00:00\", \"2019-03-04T00:00:00\", \"2019-03-05T00:00:00\", \"2019-03-06T00:00:00\", \"2019-03-07T00:00:00\", \"2019-03-08T00:00:00\", \"2019-03-09T00:00:00\", \"2019-03-10T00:00:00\", \"2019-03-11T00:00:00\", \"2019-03-12T00:00:00\", \"2019-03-13T00:00:00\", \"2019-03-14T00:00:00\", \"2019-03-15T00:00:00\", \"2019-03-16T00:00:00\", \"2019-03-17T00:00:00\", \"2019-03-18T00:00:00\", \"2019-03-19T00:00:00\", \"2019-03-20T00:00:00\", \"2019-03-21T00:00:00\", \"2019-03-22T00:00:00\", \"2019-03-23T00:00:00\", \"2019-03-24T00:00:00\", \"2019-03-25T00:00:00\", \"2019-03-26T00:00:00\", \"2019-03-27T00:00:00\", \"2019-03-28T00:00:00\", \"2019-03-29T00:00:00\", \"2019-03-30T00:00:00\", \"2019-03-31T00:00:00\", \"2019-04-01T00:00:00\", \"2019-04-02T00:00:00\", \"2019-04-03T00:00:00\", \"2019-04-04T00:00:00\", \"2019-04-05T00:00:00\", \"2019-04-06T00:00:00\", \"2019-04-07T00:00:00\", \"2019-04-08T00:00:00\", \"2019-04-09T00:00:00\", \"2019-04-10T00:00:00\", \"2019-04-11T00:00:00\", \"2019-04-12T00:00:00\", \"2019-04-13T00:00:00\", \"2019-04-14T00:00:00\", \"2019-04-15T00:00:00\", \"2019-04-16T00:00:00\", \"2019-04-17T00:00:00\", \"2019-04-18T00:00:00\", \"2019-04-19T00:00:00\", \"2019-04-20T00:00:00\", \"2019-04-21T00:00:00\", \"2019-04-22T00:00:00\", \"2019-04-23T00:00:00\", \"2019-04-24T00:00:00\", \"2019-04-25T00:00:00\", \"2019-04-26T00:00:00\", \"2019-04-27T00:00:00\", \"2019-04-28T00:00:00\", \"2019-04-29T00:00:00\", \"2019-04-30T00:00:00\", \"2019-05-01T00:00:00\", \"2019-05-02T00:00:00\", \"2019-05-03T00:00:00\", \"2019-05-04T00:00:00\", \"2019-05-05T00:00:00\", \"2019-05-06T00:00:00\", \"2019-05-07T00:00:00\", \"2019-05-08T00:00:00\", \"2019-05-09T00:00:00\", \"2019-05-10T00:00:00\", \"2019-05-11T00:00:00\", \"2019-05-12T00:00:00\", \"2019-05-13T00:00:00\", \"2019-05-14T00:00:00\", \"2019-05-15T00:00:00\", \"2019-05-16T00:00:00\", \"2019-05-17T00:00:00\", \"2019-05-18T00:00:00\", \"2019-05-19T00:00:00\", \"2019-05-20T00:00:00\", \"2019-05-21T00:00:00\", \"2019-05-22T00:00:00\", \"2019-05-23T00:00:00\", \"2019-05-24T00:00:00\", \"2019-05-25T00:00:00\", \"2019-05-26T00:00:00\", \"2019-05-27T00:00:00\", \"2019-05-28T00:00:00\", \"2019-05-29T00:00:00\", \"2019-05-30T00:00:00\", \"2019-05-31T00:00:00\", \"2019-06-01T00:00:00\", \"2019-06-02T00:00:00\", \"2019-06-03T00:00:00\", \"2019-06-04T00:00:00\", \"2019-06-05T00:00:00\", \"2019-06-06T00:00:00\", \"2019-06-07T00:00:00\", \"2019-06-08T00:00:00\", \"2019-06-09T00:00:00\", \"2019-06-10T00:00:00\", \"2019-06-11T00:00:00\", \"2019-06-12T00:00:00\", \"2019-06-13T00:00:00\", \"2019-06-14T00:00:00\", \"2019-06-15T00:00:00\", \"2019-06-16T00:00:00\", \"2019-06-17T00:00:00\", \"2019-06-18T00:00:00\", \"2019-06-19T00:00:00\", \"2019-06-20T00:00:00\", \"2019-06-21T00:00:00\", \"2019-06-22T00:00:00\", \"2019-06-23T00:00:00\", \"2019-06-24T00:00:00\", \"2019-06-25T00:00:00\", \"2019-06-26T00:00:00\", \"2019-06-27T00:00:00\", \"2019-06-28T00:00:00\", \"2019-06-29T00:00:00\", \"2019-06-30T00:00:00\", \"2019-07-01T00:00:00\", \"2019-07-02T00:00:00\", \"2019-07-03T00:00:00\", \"2019-07-04T00:00:00\", \"2019-07-05T00:00:00\", \"2019-07-06T00:00:00\", \"2019-07-07T00:00:00\", \"2019-07-08T00:00:00\", \"2019-07-09T00:00:00\", \"2019-07-10T00:00:00\", \"2019-07-11T00:00:00\", \"2019-07-12T00:00:00\", \"2019-07-13T00:00:00\", \"2019-07-14T00:00:00\", \"2019-07-15T00:00:00\", \"2019-07-16T00:00:00\", \"2019-07-17T00:00:00\", \"2019-07-18T00:00:00\", \"2019-07-19T00:00:00\", \"2019-07-20T00:00:00\", \"2019-07-21T00:00:00\", \"2019-07-22T00:00:00\", \"2019-07-23T00:00:00\", \"2019-07-24T00:00:00\", \"2019-07-25T00:00:00\", \"2019-07-26T00:00:00\", \"2019-07-27T00:00:00\", \"2019-07-28T00:00:00\", \"2019-07-29T00:00:00\", \"2019-07-30T00:00:00\", \"2019-07-31T00:00:00\", \"2019-08-01T00:00:00\", \"2019-08-02T00:00:00\", \"2019-08-03T00:00:00\", \"2019-08-04T00:00:00\", \"2019-08-05T00:00:00\", \"2019-08-06T00:00:00\", \"2019-08-07T00:00:00\", \"2019-08-08T00:00:00\", \"2019-08-09T00:00:00\", \"2019-08-10T00:00:00\", \"2019-08-11T00:00:00\", \"2019-08-12T00:00:00\", \"2019-08-13T00:00:00\", \"2019-08-14T00:00:00\", \"2019-08-15T00:00:00\", \"2019-08-16T00:00:00\", \"2019-08-17T00:00:00\", \"2019-08-18T00:00:00\", \"2019-08-19T00:00:00\", \"2019-08-20T00:00:00\", \"2019-08-21T00:00:00\", \"2019-08-22T00:00:00\", \"2019-08-23T00:00:00\", \"2019-08-24T00:00:00\", \"2019-08-25T00:00:00\", \"2019-08-26T00:00:00\", \"2019-08-27T00:00:00\", \"2019-08-28T00:00:00\", \"2019-08-29T00:00:00\", \"2019-08-30T00:00:00\", \"2019-08-31T00:00:00\", \"2019-09-01T00:00:00\", \"2019-09-02T00:00:00\", \"2019-09-03T00:00:00\", \"2019-09-04T00:00:00\", \"2019-09-05T00:00:00\", \"2019-09-06T00:00:00\", \"2019-09-07T00:00:00\", \"2019-09-08T00:00:00\", \"2019-09-09T00:00:00\", \"2019-09-10T00:00:00\", \"2019-09-11T00:00:00\", \"2019-09-12T00:00:00\", \"2019-09-13T00:00:00\", \"2019-09-14T00:00:00\", \"2019-09-15T00:00:00\", \"2019-09-16T00:00:00\", \"2019-09-17T00:00:00\", \"2019-09-18T00:00:00\", \"2019-09-19T00:00:00\", \"2019-09-20T00:00:00\", \"2019-09-21T00:00:00\", \"2019-09-22T00:00:00\", \"2019-09-23T00:00:00\", \"2019-09-24T00:00:00\", \"2019-09-25T00:00:00\", \"2019-09-26T00:00:00\", \"2019-09-27T00:00:00\", \"2019-09-28T00:00:00\", \"2019-09-29T00:00:00\", \"2019-09-30T00:00:00\", \"2019-10-01T00:00:00\", \"2019-10-02T00:00:00\", \"2019-10-03T00:00:00\", \"2019-10-04T00:00:00\", \"2019-10-05T00:00:00\", \"2019-10-06T00:00:00\", \"2019-10-07T00:00:00\", \"2019-10-08T00:00:00\", \"2019-10-09T00:00:00\", \"2019-10-10T00:00:00\", \"2019-10-11T00:00:00\", \"2019-10-12T00:00:00\", \"2019-10-13T00:00:00\", \"2019-10-14T00:00:00\", \"2019-10-15T00:00:00\", \"2019-10-16T00:00:00\", \"2019-10-17T00:00:00\", \"2019-10-18T00:00:00\", \"2019-10-19T00:00:00\", \"2019-10-20T00:00:00\", \"2019-10-21T00:00:00\", \"2019-10-22T00:00:00\", \"2019-10-23T00:00:00\", \"2019-10-24T00:00:00\", \"2019-10-25T00:00:00\", \"2019-10-26T00:00:00\", \"2019-10-27T00:00:00\", \"2019-10-28T00:00:00\", \"2019-10-29T00:00:00\", \"2019-10-30T00:00:00\", \"2019-10-31T00:00:00\", \"2019-11-01T00:00:00\", \"2019-11-02T00:00:00\", \"2019-11-03T00:00:00\", \"2019-11-04T00:00:00\", \"2019-11-05T00:00:00\", \"2019-11-06T00:00:00\", \"2019-11-07T00:00:00\", \"2019-11-08T00:00:00\", \"2019-11-09T00:00:00\", \"2019-11-10T00:00:00\", \"2019-11-11T00:00:00\", \"2019-11-12T00:00:00\", \"2019-11-13T00:00:00\", \"2019-11-14T00:00:00\", \"2019-11-15T00:00:00\", \"2019-11-16T00:00:00\", \"2019-11-17T00:00:00\", \"2019-11-18T00:00:00\", \"2019-11-19T00:00:00\", \"2019-11-20T00:00:00\", \"2019-11-21T00:00:00\", \"2019-11-22T00:00:00\", \"2019-11-23T00:00:00\", \"2019-11-24T00:00:00\", \"2019-11-25T00:00:00\", \"2019-11-26T00:00:00\", \"2019-11-27T00:00:00\", \"2019-11-28T00:00:00\", \"2019-11-29T00:00:00\", \"2019-11-30T00:00:00\", \"2019-12-01T00:00:00\", \"2019-12-02T00:00:00\", \"2019-12-03T00:00:00\", \"2019-12-04T00:00:00\", \"2019-12-05T00:00:00\", \"2019-12-06T00:00:00\", \"2019-12-07T00:00:00\", \"2019-12-08T00:00:00\", \"2019-12-09T00:00:00\", \"2019-12-10T00:00:00\", \"2019-12-11T00:00:00\", \"2019-12-12T00:00:00\", \"2019-12-13T00:00:00\", \"2019-12-14T00:00:00\", \"2019-12-15T00:00:00\", \"2019-12-16T00:00:00\", \"2019-12-17T00:00:00\", \"2019-12-18T00:00:00\", \"2019-12-19T00:00:00\", \"2019-12-20T00:00:00\", \"2019-12-21T00:00:00\", \"2019-12-22T00:00:00\", \"2019-12-23T00:00:00\", \"2019-12-24T00:00:00\", \"2019-12-25T00:00:00\", \"2019-12-26T00:00:00\", \"2019-12-27T00:00:00\", \"2019-12-28T00:00:00\", \"2019-12-29T00:00:00\", \"2019-12-30T00:00:00\", \"2019-12-31T00:00:00\", \"2020-01-01T00:00:00\", \"2020-01-02T00:00:00\", \"2020-01-03T00:00:00\", \"2020-01-04T00:00:00\", \"2020-01-05T00:00:00\", \"2020-01-06T00:00:00\", \"2020-01-07T00:00:00\", \"2020-01-08T00:00:00\", \"2020-01-09T00:00:00\", \"2020-01-10T00:00:00\", \"2020-01-11T00:00:00\", \"2020-01-12T00:00:00\", \"2020-01-13T00:00:00\", \"2020-01-14T00:00:00\", \"2020-01-15T00:00:00\", \"2020-01-16T00:00:00\", \"2020-01-17T00:00:00\", \"2020-01-18T00:00:00\", \"2020-01-19T00:00:00\", \"2020-01-20T00:00:00\", \"2020-01-21T00:00:00\", \"2020-01-22T00:00:00\", \"2020-01-23T00:00:00\", \"2020-01-24T00:00:00\", \"2020-01-25T00:00:00\", \"2020-01-26T00:00:00\", \"2020-01-27T00:00:00\", \"2020-01-28T00:00:00\", \"2020-01-29T00:00:00\", \"2020-01-30T00:00:00\", \"2020-01-31T00:00:00\", \"2020-02-01T00:00:00\", \"2020-02-02T00:00:00\", \"2020-02-03T00:00:00\", \"2020-02-04T00:00:00\", \"2020-02-05T00:00:00\", \"2020-02-06T00:00:00\", \"2020-02-07T00:00:00\", \"2020-02-08T00:00:00\", \"2020-02-09T00:00:00\", \"2020-02-10T00:00:00\", \"2020-02-11T00:00:00\", \"2020-02-12T00:00:00\", \"2020-02-13T00:00:00\", \"2020-02-14T00:00:00\", \"2020-02-15T00:00:00\", \"2020-02-16T00:00:00\", \"2020-02-17T00:00:00\", \"2020-02-18T00:00:00\", \"2020-02-19T00:00:00\", \"2020-02-20T00:00:00\", \"2020-02-21T00:00:00\", \"2020-02-22T00:00:00\", \"2020-02-23T00:00:00\", \"2020-02-24T00:00:00\", \"2020-02-25T00:00:00\", \"2020-02-26T00:00:00\", \"2020-02-27T00:00:00\", \"2020-02-28T00:00:00\", \"2020-02-29T00:00:00\", \"2020-03-01T00:00:00\", \"2020-03-02T00:00:00\", \"2020-03-03T00:00:00\", \"2020-03-04T00:00:00\", \"2020-03-05T00:00:00\", \"2020-03-06T00:00:00\", \"2020-03-07T00:00:00\", \"2020-03-08T00:00:00\", \"2020-03-09T00:00:00\", \"2020-03-10T00:00:00\", \"2020-03-11T00:00:00\", \"2020-03-12T00:00:00\", \"2020-03-13T00:00:00\", \"2020-03-14T00:00:00\", \"2020-03-15T00:00:00\", \"2020-03-16T00:00:00\", \"2020-03-17T00:00:00\", \"2020-03-18T00:00:00\", \"2020-03-19T00:00:00\", \"2020-03-20T00:00:00\", \"2020-03-21T00:00:00\", \"2020-03-22T00:00:00\", \"2020-03-23T00:00:00\", \"2020-03-24T00:00:00\", \"2020-03-25T00:00:00\", \"2020-03-26T00:00:00\", \"2020-03-27T00:00:00\", \"2020-03-28T00:00:00\", \"2020-03-29T00:00:00\", \"2020-03-30T00:00:00\", \"2020-03-31T00:00:00\", \"2020-04-01T00:00:00\", \"2020-04-02T00:00:00\", \"2020-04-03T00:00:00\", \"2020-04-04T00:00:00\", \"2020-04-05T00:00:00\", \"2020-04-06T00:00:00\", \"2020-04-07T00:00:00\", \"2020-04-08T00:00:00\", \"2020-04-09T00:00:00\", \"2020-04-10T00:00:00\", \"2020-04-11T00:00:00\", \"2020-04-12T00:00:00\", \"2020-04-13T00:00:00\", \"2020-04-14T00:00:00\", \"2020-04-15T00:00:00\", \"2020-04-16T00:00:00\", \"2020-04-17T00:00:00\", \"2020-04-18T00:00:00\", \"2020-04-19T00:00:00\", \"2020-04-20T00:00:00\", \"2020-04-21T00:00:00\", \"2020-04-22T00:00:00\", \"2020-04-23T00:00:00\", \"2020-04-24T00:00:00\", \"2020-04-25T00:00:00\", \"2020-04-26T00:00:00\", \"2020-04-27T00:00:00\", \"2020-04-28T00:00:00\", \"2020-04-29T00:00:00\", \"2020-04-30T00:00:00\", \"2020-05-01T00:00:00\", \"2020-05-02T00:00:00\", \"2020-05-03T00:00:00\", \"2020-05-04T00:00:00\", \"2020-05-05T00:00:00\", \"2020-05-06T00:00:00\", \"2020-05-07T00:00:00\", \"2020-05-08T00:00:00\", \"2020-05-09T00:00:00\", \"2020-05-10T00:00:00\", \"2020-05-11T00:00:00\", \"2020-05-12T00:00:00\", \"2020-05-13T00:00:00\", \"2020-05-14T00:00:00\", \"2020-05-15T00:00:00\", \"2020-05-16T00:00:00\", \"2020-05-17T00:00:00\", \"2020-05-18T00:00:00\", \"2020-05-19T00:00:00\", \"2020-05-20T00:00:00\", \"2020-05-21T00:00:00\", \"2020-05-22T00:00:00\", \"2020-05-23T00:00:00\", \"2020-05-24T00:00:00\", \"2020-05-25T00:00:00\", \"2020-05-26T00:00:00\", \"2020-05-27T00:00:00\", \"2020-05-28T00:00:00\", \"2020-05-29T00:00:00\", \"2020-05-30T00:00:00\", \"2020-05-31T00:00:00\", \"2020-06-01T00:00:00\", \"2020-06-02T00:00:00\", \"2020-06-03T00:00:00\", \"2020-06-04T00:00:00\", \"2020-06-05T00:00:00\", \"2020-06-06T00:00:00\", \"2020-06-07T00:00:00\", \"2020-06-08T00:00:00\", \"2020-06-09T00:00:00\", \"2020-06-10T00:00:00\", \"2020-06-11T00:00:00\", \"2020-06-12T00:00:00\", \"2020-06-13T00:00:00\", \"2020-06-14T00:00:00\", \"2020-06-15T00:00:00\", \"2020-06-16T00:00:00\", \"2020-06-17T00:00:00\", \"2020-06-18T00:00:00\", \"2020-06-19T00:00:00\", \"2020-06-20T00:00:00\", \"2020-06-21T00:00:00\", \"2020-06-22T00:00:00\", \"2020-06-23T00:00:00\", \"2020-06-24T00:00:00\", \"2020-06-25T00:00:00\", \"2020-06-26T00:00:00\", \"2020-06-27T00:00:00\", \"2020-06-28T00:00:00\", \"2020-06-29T00:00:00\", \"2020-06-30T00:00:00\", \"2020-07-01T00:00:00\", \"2020-07-02T00:00:00\", \"2020-07-03T00:00:00\", \"2020-07-04T00:00:00\", \"2020-07-05T00:00:00\", \"2020-07-06T00:00:00\", \"2020-07-07T00:00:00\", \"2020-07-08T00:00:00\", \"2020-07-09T00:00:00\", \"2020-07-10T00:00:00\", \"2020-07-11T00:00:00\", \"2020-07-12T00:00:00\", \"2020-07-13T00:00:00\", \"2020-07-14T00:00:00\", \"2020-07-15T00:00:00\", \"2020-07-16T00:00:00\", \"2020-07-17T00:00:00\", \"2020-07-18T00:00:00\", \"2020-07-19T00:00:00\", \"2020-07-20T00:00:00\", \"2020-07-21T00:00:00\", \"2020-07-22T00:00:00\", \"2020-07-23T00:00:00\", \"2020-07-24T00:00:00\", \"2020-07-25T00:00:00\", \"2020-07-26T00:00:00\", \"2020-07-27T00:00:00\", \"2020-07-28T00:00:00\", \"2020-07-29T00:00:00\", \"2020-07-30T00:00:00\", \"2020-07-31T00:00:00\", \"2020-08-01T00:00:00\", \"2020-08-02T00:00:00\", \"2020-08-03T00:00:00\", \"2020-08-04T00:00:00\", \"2020-08-05T00:00:00\", \"2020-08-06T00:00:00\", \"2020-08-07T00:00:00\", \"2020-08-08T00:00:00\", \"2020-08-09T00:00:00\", \"2020-08-10T00:00:00\", \"2020-08-11T00:00:00\", \"2020-08-12T00:00:00\", \"2020-08-13T00:00:00\", \"2020-08-14T00:00:00\", \"2020-08-15T00:00:00\", \"2020-08-16T00:00:00\", \"2020-08-17T00:00:00\", \"2020-08-18T00:00:00\", \"2020-08-19T00:00:00\", \"2020-08-20T00:00:00\", \"2020-08-21T00:00:00\", \"2020-08-22T00:00:00\", \"2020-08-23T00:00:00\", \"2020-08-24T00:00:00\", \"2020-08-25T00:00:00\", \"2020-08-26T00:00:00\", \"2020-08-27T00:00:00\", \"2020-08-28T00:00:00\", \"2020-08-29T00:00:00\", \"2020-08-30T00:00:00\", \"2020-08-31T00:00:00\", \"2020-09-01T00:00:00\", \"2020-09-02T00:00:00\", \"2020-09-03T00:00:00\", \"2020-09-04T00:00:00\", \"2020-09-05T00:00:00\", \"2020-09-06T00:00:00\", \"2020-09-07T00:00:00\", \"2020-09-08T00:00:00\", \"2020-09-09T00:00:00\", \"2020-09-10T00:00:00\", \"2020-09-11T00:00:00\", \"2020-09-12T00:00:00\", \"2020-09-13T00:00:00\", \"2020-09-14T00:00:00\", \"2020-09-15T00:00:00\", \"2020-09-16T00:00:00\", \"2020-09-17T00:00:00\", \"2020-09-18T00:00:00\", \"2020-09-19T00:00:00\", \"2020-09-20T00:00:00\", \"2020-09-21T00:00:00\", \"2020-09-22T00:00:00\", \"2020-09-23T00:00:00\", \"2020-09-24T00:00:00\", \"2020-09-25T00:00:00\", \"2020-09-26T00:00:00\", \"2020-09-27T00:00:00\", \"2020-09-28T00:00:00\", \"2020-09-29T00:00:00\", \"2020-09-30T00:00:00\", \"2020-10-01T00:00:00\", \"2020-10-02T00:00:00\", \"2020-10-03T00:00:00\", \"2020-10-04T00:00:00\", \"2020-10-05T00:00:00\", \"2020-10-06T00:00:00\", \"2020-10-07T00:00:00\", \"2020-10-08T00:00:00\", \"2020-10-09T00:00:00\", \"2020-10-10T00:00:00\", \"2020-10-11T00:00:00\", \"2020-10-12T00:00:00\", \"2020-10-13T00:00:00\", \"2020-10-14T00:00:00\", \"2020-10-15T00:00:00\", \"2020-10-16T00:00:00\", \"2020-10-17T00:00:00\", \"2020-10-18T00:00:00\", \"2020-10-19T00:00:00\", \"2020-10-20T00:00:00\", \"2020-10-21T00:00:00\", \"2020-10-22T00:00:00\", \"2020-10-23T00:00:00\", \"2020-10-24T00:00:00\", \"2020-10-25T00:00:00\", \"2020-10-26T00:00:00\", \"2020-10-27T00:00:00\", \"2020-10-28T00:00:00\", \"2020-10-29T00:00:00\", \"2020-10-30T00:00:00\", \"2020-10-31T00:00:00\", \"2020-11-01T00:00:00\", \"2020-11-02T00:00:00\", \"2020-11-03T00:00:00\", \"2020-11-04T00:00:00\", \"2020-11-05T00:00:00\", \"2020-11-06T00:00:00\", \"2020-11-07T00:00:00\", \"2020-11-08T00:00:00\", \"2020-11-09T00:00:00\", \"2020-11-10T00:00:00\", \"2020-11-11T00:00:00\", \"2020-11-12T00:00:00\", \"2020-11-13T00:00:00\", \"2020-11-14T00:00:00\", \"2020-11-15T00:00:00\", \"2020-11-16T00:00:00\", \"2020-11-17T00:00:00\", \"2020-11-18T00:00:00\", \"2020-11-19T00:00:00\", \"2020-11-20T00:00:00\", \"2020-11-21T00:00:00\", \"2020-11-22T00:00:00\", \"2020-11-23T00:00:00\", \"2020-11-24T00:00:00\", \"2020-11-25T00:00:00\", \"2020-11-26T00:00:00\", \"2020-11-27T00:00:00\", \"2020-11-28T00:00:00\", \"2020-11-29T00:00:00\", \"2020-11-30T00:00:00\", \"2020-12-01T00:00:00\", \"2020-12-02T00:00:00\", \"2020-12-03T00:00:00\", \"2020-12-04T00:00:00\", \"2020-12-05T00:00:00\"]}],\n",
              "                        {\"template\": {\"data\": {\"bar\": [{\"error_x\": {\"color\": \"#2a3f5f\"}, \"error_y\": {\"color\": \"#2a3f5f\"}, \"marker\": {\"line\": {\"color\": \"#E5ECF6\", \"width\": 0.5}}, \"type\": \"bar\"}], \"barpolar\": [{\"marker\": {\"line\": {\"color\": \"#E5ECF6\", \"width\": 0.5}}, \"type\": \"barpolar\"}], \"carpet\": [{\"aaxis\": {\"endlinecolor\": \"#2a3f5f\", \"gridcolor\": \"white\", \"linecolor\": \"white\", \"minorgridcolor\": \"white\", \"startlinecolor\": \"#2a3f5f\"}, \"baxis\": {\"endlinecolor\": \"#2a3f5f\", \"gridcolor\": \"white\", \"linecolor\": \"white\", \"minorgridcolor\": \"white\", \"startlinecolor\": \"#2a3f5f\"}, \"type\": \"carpet\"}], \"choropleth\": [{\"colorbar\": {\"outlinewidth\": 0, \"ticks\": \"\"}, \"type\": \"choropleth\"}], \"contour\": [{\"colorbar\": {\"outlinewidth\": 0, \"ticks\": \"\"}, \"colorscale\": [[0.0, \"#0d0887\"], [0.1111111111111111, \"#46039f\"], [0.2222222222222222, \"#7201a8\"], [0.3333333333333333, \"#9c179e\"], [0.4444444444444444, \"#bd3786\"], [0.5555555555555556, \"#d8576b\"], [0.6666666666666666, \"#ed7953\"], [0.7777777777777778, \"#fb9f3a\"], [0.8888888888888888, \"#fdca26\"], [1.0, \"#f0f921\"]], \"type\": \"contour\"}], \"contourcarpet\": [{\"colorbar\": {\"outlinewidth\": 0, \"ticks\": \"\"}, \"type\": \"contourcarpet\"}], \"heatmap\": [{\"colorbar\": {\"outlinewidth\": 0, \"ticks\": \"\"}, \"colorscale\": [[0.0, \"#0d0887\"], [0.1111111111111111, \"#46039f\"], [0.2222222222222222, \"#7201a8\"], [0.3333333333333333, \"#9c179e\"], [0.4444444444444444, \"#bd3786\"], [0.5555555555555556, \"#d8576b\"], [0.6666666666666666, \"#ed7953\"], [0.7777777777777778, \"#fb9f3a\"], [0.8888888888888888, \"#fdca26\"], [1.0, \"#f0f921\"]], \"type\": \"heatmap\"}], \"heatmapgl\": [{\"colorbar\": {\"outlinewidth\": 0, \"ticks\": \"\"}, \"colorscale\": [[0.0, \"#0d0887\"], [0.1111111111111111, \"#46039f\"], [0.2222222222222222, \"#7201a8\"], [0.3333333333333333, \"#9c179e\"], [0.4444444444444444, \"#bd3786\"], [0.5555555555555556, \"#d8576b\"], [0.6666666666666666, \"#ed7953\"], [0.7777777777777778, \"#fb9f3a\"], [0.8888888888888888, \"#fdca26\"], [1.0, \"#f0f921\"]], \"type\": \"heatmapgl\"}], \"histogram\": [{\"marker\": {\"colorbar\": {\"outlinewidth\": 0, \"ticks\": \"\"}}, \"type\": \"histogram\"}], \"histogram2d\": [{\"colorbar\": {\"outlinewidth\": 0, \"ticks\": \"\"}, \"colorscale\": [[0.0, \"#0d0887\"], [0.1111111111111111, \"#46039f\"], [0.2222222222222222, \"#7201a8\"], [0.3333333333333333, \"#9c179e\"], [0.4444444444444444, \"#bd3786\"], [0.5555555555555556, \"#d8576b\"], [0.6666666666666666, \"#ed7953\"], [0.7777777777777778, \"#fb9f3a\"], [0.8888888888888888, \"#fdca26\"], [1.0, \"#f0f921\"]], \"type\": \"histogram2d\"}], \"histogram2dcontour\": [{\"colorbar\": {\"outlinewidth\": 0, \"ticks\": \"\"}, \"colorscale\": [[0.0, \"#0d0887\"], [0.1111111111111111, \"#46039f\"], [0.2222222222222222, \"#7201a8\"], [0.3333333333333333, \"#9c179e\"], [0.4444444444444444, \"#bd3786\"], [0.5555555555555556, \"#d8576b\"], [0.6666666666666666, \"#ed7953\"], [0.7777777777777778, \"#fb9f3a\"], [0.8888888888888888, \"#fdca26\"], [1.0, \"#f0f921\"]], \"type\": \"histogram2dcontour\"}], \"mesh3d\": [{\"colorbar\": {\"outlinewidth\": 0, \"ticks\": \"\"}, \"type\": \"mesh3d\"}], \"parcoords\": [{\"line\": {\"colorbar\": {\"outlinewidth\": 0, \"ticks\": \"\"}}, \"type\": \"parcoords\"}], \"pie\": [{\"automargin\": true, \"type\": \"pie\"}], \"scatter\": [{\"marker\": {\"colorbar\": {\"outlinewidth\": 0, \"ticks\": \"\"}}, \"type\": \"scatter\"}], \"scatter3d\": [{\"line\": {\"colorbar\": {\"outlinewidth\": 0, \"ticks\": \"\"}}, \"marker\": {\"colorbar\": {\"outlinewidth\": 0, \"ticks\": \"\"}}, \"type\": \"scatter3d\"}], \"scattercarpet\": [{\"marker\": {\"colorbar\": {\"outlinewidth\": 0, \"ticks\": \"\"}}, \"type\": \"scattercarpet\"}], \"scattergeo\": [{\"marker\": {\"colorbar\": {\"outlinewidth\": 0, \"ticks\": \"\"}}, \"type\": \"scattergeo\"}], \"scattergl\": [{\"marker\": {\"colorbar\": {\"outlinewidth\": 0, \"ticks\": \"\"}}, \"type\": \"scattergl\"}], \"scattermapbox\": [{\"marker\": {\"colorbar\": {\"outlinewidth\": 0, \"ticks\": \"\"}}, \"type\": \"scattermapbox\"}], \"scatterpolar\": [{\"marker\": {\"colorbar\": {\"outlinewidth\": 0, \"ticks\": \"\"}}, \"type\": \"scatterpolar\"}], \"scatterpolargl\": [{\"marker\": {\"colorbar\": {\"outlinewidth\": 0, \"ticks\": \"\"}}, \"type\": \"scatterpolargl\"}], \"scatterternary\": [{\"marker\": {\"colorbar\": {\"outlinewidth\": 0, \"ticks\": \"\"}}, \"type\": \"scatterternary\"}], \"surface\": [{\"colorbar\": {\"outlinewidth\": 0, \"ticks\": \"\"}, \"colorscale\": [[0.0, \"#0d0887\"], [0.1111111111111111, \"#46039f\"], [0.2222222222222222, \"#7201a8\"], [0.3333333333333333, \"#9c179e\"], [0.4444444444444444, \"#bd3786\"], [0.5555555555555556, \"#d8576b\"], [0.6666666666666666, \"#ed7953\"], [0.7777777777777778, \"#fb9f3a\"], [0.8888888888888888, \"#fdca26\"], [1.0, \"#f0f921\"]], \"type\": \"surface\"}], \"table\": [{\"cells\": {\"fill\": {\"color\": \"#EBF0F8\"}, \"line\": {\"color\": \"white\"}}, \"header\": {\"fill\": {\"color\": \"#C8D4E3\"}, \"line\": {\"color\": \"white\"}}, \"type\": \"table\"}]}, \"layout\": {\"annotationdefaults\": {\"arrowcolor\": \"#2a3f5f\", \"arrowhead\": 0, \"arrowwidth\": 1}, \"coloraxis\": {\"colorbar\": {\"outlinewidth\": 0, \"ticks\": \"\"}}, \"colorscale\": {\"diverging\": [[0, \"#8e0152\"], [0.1, \"#c51b7d\"], [0.2, \"#de77ae\"], [0.3, \"#f1b6da\"], [0.4, \"#fde0ef\"], [0.5, \"#f7f7f7\"], [0.6, \"#e6f5d0\"], [0.7, \"#b8e186\"], [0.8, \"#7fbc41\"], [0.9, \"#4d9221\"], [1, \"#276419\"]], \"sequential\": [[0.0, \"#0d0887\"], [0.1111111111111111, \"#46039f\"], [0.2222222222222222, \"#7201a8\"], [0.3333333333333333, \"#9c179e\"], [0.4444444444444444, \"#bd3786\"], [0.5555555555555556, \"#d8576b\"], [0.6666666666666666, \"#ed7953\"], [0.7777777777777778, \"#fb9f3a\"], [0.8888888888888888, \"#fdca26\"], [1.0, \"#f0f921\"]], \"sequentialminus\": [[0.0, \"#0d0887\"], [0.1111111111111111, \"#46039f\"], [0.2222222222222222, \"#7201a8\"], [0.3333333333333333, \"#9c179e\"], [0.4444444444444444, \"#bd3786\"], [0.5555555555555556, \"#d8576b\"], [0.6666666666666666, \"#ed7953\"], [0.7777777777777778, \"#fb9f3a\"], [0.8888888888888888, \"#fdca26\"], [1.0, \"#f0f921\"]]}, \"colorway\": [\"#636efa\", \"#EF553B\", \"#00cc96\", \"#ab63fa\", \"#FFA15A\", \"#19d3f3\", \"#FF6692\", \"#B6E880\", \"#FF97FF\", \"#FECB52\"], \"font\": {\"color\": \"#2a3f5f\"}, \"geo\": {\"bgcolor\": \"white\", \"lakecolor\": \"white\", \"landcolor\": \"#E5ECF6\", \"showlakes\": true, \"showland\": true, \"subunitcolor\": \"white\"}, \"hoverlabel\": {\"align\": \"left\"}, \"hovermode\": \"closest\", \"mapbox\": {\"style\": \"light\"}, \"paper_bgcolor\": \"white\", \"plot_bgcolor\": \"#E5ECF6\", \"polar\": {\"angularaxis\": {\"gridcolor\": \"white\", \"linecolor\": \"white\", \"ticks\": \"\"}, \"bgcolor\": \"#E5ECF6\", \"radialaxis\": {\"gridcolor\": \"white\", \"linecolor\": \"white\", \"ticks\": \"\"}}, \"scene\": {\"xaxis\": {\"backgroundcolor\": \"#E5ECF6\", \"gridcolor\": \"white\", \"gridwidth\": 2, \"linecolor\": \"white\", \"showbackground\": true, \"ticks\": \"\", \"zerolinecolor\": \"white\"}, \"yaxis\": {\"backgroundcolor\": \"#E5ECF6\", \"gridcolor\": \"white\", \"gridwidth\": 2, \"linecolor\": \"white\", \"showbackground\": true, \"ticks\": \"\", \"zerolinecolor\": \"white\"}, \"zaxis\": {\"backgroundcolor\": \"#E5ECF6\", \"gridcolor\": \"white\", \"gridwidth\": 2, \"linecolor\": \"white\", \"showbackground\": true, \"ticks\": \"\", \"zerolinecolor\": \"white\"}}, \"shapedefaults\": {\"line\": {\"color\": \"#2a3f5f\"}}, \"ternary\": {\"aaxis\": {\"gridcolor\": \"white\", \"linecolor\": \"white\", \"ticks\": \"\"}, \"baxis\": {\"gridcolor\": \"white\", \"linecolor\": \"white\", \"ticks\": \"\"}, \"bgcolor\": \"#E5ECF6\", \"caxis\": {\"gridcolor\": \"white\", \"linecolor\": \"white\", \"ticks\": \"\"}}, \"title\": {\"x\": 0.05}, \"xaxis\": {\"automargin\": true, \"gridcolor\": \"white\", \"linecolor\": \"white\", \"ticks\": \"\", \"title\": {\"standoff\": 15}, \"zerolinecolor\": \"white\", \"zerolinewidth\": 2}, \"yaxis\": {\"automargin\": true, \"gridcolor\": \"white\", \"linecolor\": \"white\", \"ticks\": \"\", \"title\": {\"standoff\": 15}, \"zerolinecolor\": \"white\", \"zerolinewidth\": 2}}}},\n",
              "                        {\"responsive\": true}\n",
              "                    ).then(function(){\n",
              "                            \n",
              "var gd = document.getElementById('6ad54ba6-000a-4647-aa94-5883c59489c8');\n",
              "var x = new MutationObserver(function (mutations, observer) {{\n",
              "        var display = window.getComputedStyle(gd).display;\n",
              "        if (!display || display === 'none') {{\n",
              "            console.log([gd, 'removed!']);\n",
              "            Plotly.purge(gd);\n",
              "            observer.disconnect();\n",
              "        }}\n",
              "}});\n",
              "\n",
              "// Listen for the removal of the full notebook cells\n",
              "var notebookContainer = gd.closest('#notebook-container');\n",
              "if (notebookContainer) {{\n",
              "    x.observe(notebookContainer, {childList: true});\n",
              "}}\n",
              "\n",
              "// Listen for the clearing of the current output cell\n",
              "var outputEl = gd.closest('.output');\n",
              "if (outputEl) {{\n",
              "    x.observe(outputEl, {childList: true});\n",
              "}}\n",
              "\n",
              "                        })\n",
              "                };\n",
              "                \n",
              "            </script>\n",
              "        </div>\n",
              "</body>\n",
              "</html>"
            ]
          },
          "metadata": {
            "tags": []
          }
        }
      ]
    }
  ]
}